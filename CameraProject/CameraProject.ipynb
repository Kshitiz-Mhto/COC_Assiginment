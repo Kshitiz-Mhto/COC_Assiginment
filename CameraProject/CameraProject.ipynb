{
  "nbformat": 4,
  "nbformat_minor": 0,
  "metadata": {
    "colab": {
      "name": "Untitled2.ipynb",
      "provenance": [],
      "collapsed_sections": []
    },
    "kernelspec": {
      "name": "python3",
      "display_name": "Python 3"
    },
    "language_info": {
      "name": "python"
    }
  },
  "cells": [
    {
      "cell_type": "code",
      "execution_count": 21,
      "metadata": {
        "colab": {
          "base_uri": "https://localhost:8080/",
          "height": 1000
        },
      "source": [
        "import cv2\n",
        "from google.colab.patches import cv2_imshow\n",
        "import datetime\n",
        "\n",
        "cap = cv2.VideoCapture(1) #providing capturing feature\n",
        "out = cv2.VIdeoWriter('output.avi', -1,20.0,(720,640))\n",
        "\n",
        "while True:\n",
        "  retvalue, image = cap.read()\n",
        "  # print (retvalue) #----> ensure that read() is providing frame or not\n",
        "  # print (type(image))  --->numpy ndarray\n",
        "  # print(image.shape)    ---> provide the shape of your web cam\n",
        "  # cv2.imshow(\"My CAM\", image)\n",
        "  if revalue:\n",
        "    cv2_imshow(\"My Cam\",image)\n",
        "    out.write(image)\n",
        "  key = cv2.waitKey(5)  # --->wait for the next capture in 5 miliseconds and provide an unique unicode value\n",
        "\n",
        "  if key == ord('q'):\n",
        "    break\n",
        "  if key == ord('c'):\n",
        "    now = datetime.now()\n",
        "    date_time = now.strftime(\"%Y_%m_%d__%H:%M:%s\")\n",
        "    cv2.imwrite('{}.png'.format(date_time), image)\n",
        "  \n",
        "#   while working for the multiple task done by single app\n",
        "cap.release() \n",
        "cv2.destoryAllWindows()\n",
        "out.release()\n"
      ]
    }
  ]
}
